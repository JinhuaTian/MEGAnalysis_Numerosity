{
 "cells": [
  {
   "cell_type": "code",
   "execution_count": null,
   "metadata": {
    "scrolled": false
   },
   "outputs": [],
   "source": [
    "# Annotate and delete bad epochs manually, this procedure (epoch.plot) could not run in a loop\n",
    "from os.path import join as pj\n",
    "import matplotlib\n",
    "matplotlib.use('TkAgg') #   Qt5Agg #'TkAgg'\n",
    "import mne\n",
    "rootDir = '/nfs/s2/userhome/tianjinhua/workingdir/meg/numerosity2'\n",
    "subj = 'subj004'\n",
    "savePath = pj(rootDir, subj, 'preprocessed')\n",
    "rawfile = 'S04_G15BNU_20210716_15.ds'\n",
    "file = 'filterEpochICA_' + rawfile\n",
    "# rawName = raw + str(fileNum)\n",
    "filepath = pj(savePath,file)\n",
    "# exec('raw{}= mne.io.read_raw_fif(filepath,allow_maxshield=True,preload=True)'.format(fileNum)) #Do we need Signal Space Projection (SSP)?\n",
    "raw = mne.read_epochs(filepath, preload=True) #allow_maxshield=True,\n",
    "# 1.1 Reject epochs manually\n",
    "#select and annotate bad epoch\n",
    "fig = raw.plot(picks='mag',block=True) # stop until plot closed, could run in ipython #fig.canvas.key_press_event('a')"
   ]
  },
  {
   "cell_type": "code",
   "execution_count": null,
   "metadata": {},
   "outputs": [],
   "source": [
    "#apply bad epoch\n",
    "raw.drop_bad()\n",
    "# save the manual rejected file\n",
    "fileName = 'filterEpochICAMr_' + rawfile\n",
    "tempSavename = pj(savePath,fileName)\n",
    "raw.save(tempSavename, overwrite=True)"
   ]
  },
  {
   "cell_type": "code",
   "execution_count": null,
   "metadata": {},
   "outputs": [],
   "source": []
  }
 ],
 "metadata": {
  "kernelspec": {
   "display_name": "Python 3",
   "language": "python",
   "name": "python3"
  },
  "language_info": {
   "codemirror_mode": {
    "name": "ipython",
    "version": 3
   },
   "file_extension": ".py",
   "mimetype": "text/x-python",
   "name": "python",
   "nbconvert_exporter": "python",
   "pygments_lexer": "ipython3",
   "version": "3.8.8"
  }
 },
 "nbformat": 4,
 "nbformat_minor": 4
}
