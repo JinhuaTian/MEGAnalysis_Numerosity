{
 "cells": [
  {
   "cell_type": "code",
   "execution_count": null,
   "metadata": {},
   "outputs": [],
   "source": [
    "# Annotate and delete bad epochs manually, this procedure (epoch.plot) could not run in a loop\n",
    "from os.path import join as pj\n",
    "import matplotlib\n",
    "matplotlib.use('TkAgg') #   Qt5Agg #'TkAgg'\n",
    "import mne\n",
    "rootDir = '/nfs/s2/userhome/tianjinhua/workingdir/meg/numerosity'\n",
    "subj = 'subj005'\n",
    "savePath = pj(rootDir, subj, 'preprocessed')\n",
    "rawfile = 'run15_tsss.fif'\n",
    "file = 'filterEpochICA_' + rawfile\n",
    "# rawName = raw + str(fileNum)\n",
    "filepath = pj(savePath,file)\n",
    "# exec('raw{}= mne.io.read_raw_fif(filepath,allow_maxshield=True,preload=True)'.format(fileNum)) #Do we need Signal Space Projection (SSP)?\n",
    "raw = mne.read_epochs(filepath, preload=True) #allow_maxshield=True,\n",
    "# 1.1 Reject epochs manually\n",
    "#select and annotate bad epoch\n",
    "fig = raw.plot() #fig.canvas.key_press_event('a')"
   ]
  },
  {
   "cell_type": "code",
   "execution_count": null,
   "metadata": {},
   "outputs": [],
   "source": [
    "#apply bad epoch\n",
    "raw.drop_bad()\n",
    "# save the manual rejected file\n",
    "fileName = 'filterEpochICAMj_' + rawfile\n",
    "tempSavename = pj(savePath,fileName)\n",
    "raw.save(tempSavename, overwrite=True)"
   ]
  }
 ],
 "metadata": {
  "kernelspec": {
   "display_name": "Python 3",
   "language": "python",
   "name": "python3"
  },
  "language_info": {
   "codemirror_mode": {
    "name": "ipython",
    "version": 3
   },
   "file_extension": ".py",
   "mimetype": "text/x-python",
   "name": "python",
   "nbconvert_exporter": "python",
   "pygments_lexer": "ipython3",
   "version": "3.8.5"
  }
 },
 "nbformat": 4,
 "nbformat_minor": 4
}
